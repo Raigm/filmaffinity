{
 "cells": [
  {
   "cell_type": "markdown",
   "metadata": {},
   "source": [
    "### 1. Importing libraries"
   ]
  },
  {
   "cell_type": "code",
   "execution_count": 1,
   "metadata": {
    "collapsed": true
   },
   "outputs": [],
   "source": [
    "from bs4 import BeautifulSoup\n",
    "import pandas as pd\n",
    "import numpy as np\n",
    "import requests"
   ]
  },
  {
   "cell_type": "markdown",
   "metadata": {},
   "source": [
    "### 2. Scrapping the tree"
   ]
  },
  {
   "cell_type": "code",
   "execution_count": null,
   "metadata": {},
   "outputs": [],
   "source": [
    "titles = []\n",
    "rates = []\n",
    "years = []\n",
    "genres = []\n",
    "\n",
    "for i in range(1,100):\n",
    "    r = requests.get(f\"https://www.filmaffinity.com/es/vod_dvd.php?eid=filmin&page={str(i)}&ord=rating&genre=\")\n",
    "    soup = BeautifulSoup(r.text, \"html.parser\")\n",
    "    rate = [a.get(\"data-avg\") for a in soup.findAll(\"a\", {\"class\": \"movie-wrapper\"})]\n",
    "    title = [a.get(\"data-movie-t\") for a in soup.findAll(\"a\", {\"class\": \"movie-wrapper\"})]\n",
    "    year = [a.get(\"data-year\") for a in soup.findAll(\"a\", {\"class\": \"movie-wrapper\"})]\n",
    "    genre = [a.get(\"data-genres\") for a in soup.findAll(\"a\", {\"class\": \"movie-wrapper\"})]\n",
    "    titles.extend(title)\n",
    "    rates.extend(rate)\n",
    "    years.extend(year)\n",
    "    genres.extend(genre)\n",
    "      "
   ]
  },
  {
   "cell_type": "markdown",
   "metadata": {},
   "source": [
    "### 3. Create the dataframe and export to csv"
   ]
  },
  {
   "cell_type": "code",
   "execution_count": null,
   "metadata": {},
   "outputs": [],
   "source": [
    "df_film = pd.DataFrame(\n",
    "    {'Titles': titles,\n",
    "     'Rate': rates,\n",
    "     'Year': years,     \n",
    "     'Description':genres\n",
    "    })\n",
    "\n",
    "\n",
    "df_film = df_film.drop_duplicates(\"Titles\")\n",
    "df_film"
   ]
  },
  {
   "cell_type": "code",
   "execution_count": null,
   "metadata": {},
   "outputs": [],
   "source": [
    "print(f\"Number of titles: {len(df_film.Titles)}\")"
   ]
  },
  {
   "cell_type": "code",
   "execution_count": null,
   "metadata": {},
   "outputs": [],
   "source": [
    "df_film.describe()"
   ]
  },
  {
   "cell_type": "code",
   "execution_count": null,
   "metadata": {
    "collapsed": true
   },
   "outputs": [],
   "source": [
    "df_film.to_csv(\"filmaffinity.csv\", encoding = 'utf-8', index= False)"
   ]
  }
 ],
 "metadata": {
  "kernelspec": {
   "display_name": "Python 3",
   "language": "python",
   "name": "python3"
  },
  "language_info": {
   "codemirror_mode": {
    "name": "ipython",
    "version": 3
   },
   "file_extension": ".py",
   "mimetype": "text/x-python",
   "name": "python",
   "nbconvert_exporter": "python",
   "pygments_lexer": "ipython3",
   "version": "3.6.2"
  }
 },
 "nbformat": 4,
 "nbformat_minor": 2
}
